{
  "cells": [
    {
      "cell_type": "markdown",
      "metadata": {
        "id": "C9jqyoKOlfXU"
      },
      "source": [
        "---\n",
        "![kku-logo.svg](attachment:kku-logo.svg)\n",
        "\n",
        "<div align=\"center\">\n",
        "    \n",
        "# Department of Information system\n",
        "## College of Computer science, King Khalid University\n",
        "## Abha, Kingdom of Saudi Arabia\n",
        "## Academic Year 2022-2023 Semester 2\n",
        "### Machine Learning Assignment 2 part 2\n",
        "    \n",
        "</div>\n",
        "\n",
        "\n",
        "---"
      ]
    },
    {
      "cell_type": "markdown",
      "metadata": {
        "id": "F-FUgTVmlfXY"
      },
      "source": [
        "# Classification"
      ]
    },
    {
      "cell_type": "markdown",
      "metadata": {
        "id": "fws17ewrlfXY"
      },
      "source": [
        "### Importing libraries & data"
      ]
    },
    {
      "cell_type": "code",
      "execution_count": null,
      "metadata": {
        "id": "okr4xCzNlfXZ"
      },
      "outputs": [],
      "source": [
        "import numpy as np\n",
        "import pandas as pd\n",
        "import matplotlib.pyplot as plt\n",
        "import seaborn as sns\n",
        "%matplotlib inline\n",
        "#sns.set()\n",
        "\n"
      ]
    },
    {
      "cell_type": "code",
      "execution_count": null,
      "metadata": {
        "id": "r_RuiHEKlfXa"
      },
      "outputs": [],
      "source": [
        "df = pd.read_csv('WA_Fn-UseC_-Telco-Customer-Churn.csv')"
      ]
    },
    {
      "cell_type": "code",
      "execution_count": null,
      "metadata": {
        "id": "a0g8Jo3ylfXb",
        "outputId": "fe6f634b-0e09-470a-eb18-f027b78add45"
      },
      "outputs": [
        {
          "data": {
            "text/html": [
              "<div>\n",
              "<style scoped>\n",
              "    .dataframe tbody tr th:only-of-type {\n",
              "        vertical-align: middle;\n",
              "    }\n",
              "\n",
              "    .dataframe tbody tr th {\n",
              "        vertical-align: top;\n",
              "    }\n",
              "\n",
              "    .dataframe thead th {\n",
              "        text-align: right;\n",
              "    }\n",
              "</style>\n",
              "<table border=\"1\" class=\"dataframe\">\n",
              "  <thead>\n",
              "    <tr style=\"text-align: right;\">\n",
              "      <th></th>\n",
              "      <th>customerID</th>\n",
              "      <th>gender</th>\n",
              "      <th>SeniorCitizen</th>\n",
              "      <th>Partner</th>\n",
              "      <th>Dependents</th>\n",
              "      <th>tenure</th>\n",
              "      <th>PhoneService</th>\n",
              "      <th>MultipleLines</th>\n",
              "      <th>InternetService</th>\n",
              "      <th>OnlineSecurity</th>\n",
              "      <th>...</th>\n",
              "      <th>DeviceProtection</th>\n",
              "      <th>TechSupport</th>\n",
              "      <th>StreamingTV</th>\n",
              "      <th>StreamingMovies</th>\n",
              "      <th>Contract</th>\n",
              "      <th>PaperlessBilling</th>\n",
              "      <th>PaymentMethod</th>\n",
              "      <th>MonthlyCharges</th>\n",
              "      <th>TotalCharges</th>\n",
              "      <th>Churn</th>\n",
              "    </tr>\n",
              "  </thead>\n",
              "  <tbody>\n",
              "    <tr>\n",
              "      <th>0</th>\n",
              "      <td>7590-VHVEG</td>\n",
              "      <td>Female</td>\n",
              "      <td>0</td>\n",
              "      <td>Yes</td>\n",
              "      <td>No</td>\n",
              "      <td>1</td>\n",
              "      <td>No</td>\n",
              "      <td>No phone service</td>\n",
              "      <td>DSL</td>\n",
              "      <td>No</td>\n",
              "      <td>...</td>\n",
              "      <td>No</td>\n",
              "      <td>No</td>\n",
              "      <td>No</td>\n",
              "      <td>No</td>\n",
              "      <td>Month-to-month</td>\n",
              "      <td>Yes</td>\n",
              "      <td>Electronic check</td>\n",
              "      <td>29.85</td>\n",
              "      <td>29.85</td>\n",
              "      <td>No</td>\n",
              "    </tr>\n",
              "    <tr>\n",
              "      <th>1</th>\n",
              "      <td>5575-GNVDE</td>\n",
              "      <td>Male</td>\n",
              "      <td>0</td>\n",
              "      <td>No</td>\n",
              "      <td>No</td>\n",
              "      <td>34</td>\n",
              "      <td>Yes</td>\n",
              "      <td>No</td>\n",
              "      <td>DSL</td>\n",
              "      <td>Yes</td>\n",
              "      <td>...</td>\n",
              "      <td>Yes</td>\n",
              "      <td>No</td>\n",
              "      <td>No</td>\n",
              "      <td>No</td>\n",
              "      <td>One year</td>\n",
              "      <td>No</td>\n",
              "      <td>Mailed check</td>\n",
              "      <td>56.95</td>\n",
              "      <td>1889.5</td>\n",
              "      <td>No</td>\n",
              "    </tr>\n",
              "    <tr>\n",
              "      <th>2</th>\n",
              "      <td>3668-QPYBK</td>\n",
              "      <td>Male</td>\n",
              "      <td>0</td>\n",
              "      <td>No</td>\n",
              "      <td>No</td>\n",
              "      <td>2</td>\n",
              "      <td>Yes</td>\n",
              "      <td>No</td>\n",
              "      <td>DSL</td>\n",
              "      <td>Yes</td>\n",
              "      <td>...</td>\n",
              "      <td>No</td>\n",
              "      <td>No</td>\n",
              "      <td>No</td>\n",
              "      <td>No</td>\n",
              "      <td>Month-to-month</td>\n",
              "      <td>Yes</td>\n",
              "      <td>Mailed check</td>\n",
              "      <td>53.85</td>\n",
              "      <td>108.15</td>\n",
              "      <td>Yes</td>\n",
              "    </tr>\n",
              "    <tr>\n",
              "      <th>3</th>\n",
              "      <td>7795-CFOCW</td>\n",
              "      <td>Male</td>\n",
              "      <td>0</td>\n",
              "      <td>No</td>\n",
              "      <td>No</td>\n",
              "      <td>45</td>\n",
              "      <td>No</td>\n",
              "      <td>No phone service</td>\n",
              "      <td>DSL</td>\n",
              "      <td>Yes</td>\n",
              "      <td>...</td>\n",
              "      <td>Yes</td>\n",
              "      <td>Yes</td>\n",
              "      <td>No</td>\n",
              "      <td>No</td>\n",
              "      <td>One year</td>\n",
              "      <td>No</td>\n",
              "      <td>Bank transfer (automatic)</td>\n",
              "      <td>42.30</td>\n",
              "      <td>1840.75</td>\n",
              "      <td>No</td>\n",
              "    </tr>\n",
              "    <tr>\n",
              "      <th>4</th>\n",
              "      <td>9237-HQITU</td>\n",
              "      <td>Female</td>\n",
              "      <td>0</td>\n",
              "      <td>No</td>\n",
              "      <td>No</td>\n",
              "      <td>2</td>\n",
              "      <td>Yes</td>\n",
              "      <td>No</td>\n",
              "      <td>Fiber optic</td>\n",
              "      <td>No</td>\n",
              "      <td>...</td>\n",
              "      <td>No</td>\n",
              "      <td>No</td>\n",
              "      <td>No</td>\n",
              "      <td>No</td>\n",
              "      <td>Month-to-month</td>\n",
              "      <td>Yes</td>\n",
              "      <td>Electronic check</td>\n",
              "      <td>70.70</td>\n",
              "      <td>151.65</td>\n",
              "      <td>Yes</td>\n",
              "    </tr>\n",
              "  </tbody>\n",
              "</table>\n",
              "<p>5 rows × 21 columns</p>\n",
              "</div>"
            ],
            "text/plain": [
              "   customerID  gender  SeniorCitizen Partner Dependents  tenure PhoneService  \\\n",
              "0  7590-VHVEG  Female              0     Yes         No       1           No   \n",
              "1  5575-GNVDE    Male              0      No         No      34          Yes   \n",
              "2  3668-QPYBK    Male              0      No         No       2          Yes   \n",
              "3  7795-CFOCW    Male              0      No         No      45           No   \n",
              "4  9237-HQITU  Female              0      No         No       2          Yes   \n",
              "\n",
              "      MultipleLines InternetService OnlineSecurity  ... DeviceProtection  \\\n",
              "0  No phone service             DSL             No  ...               No   \n",
              "1                No             DSL            Yes  ...              Yes   \n",
              "2                No             DSL            Yes  ...               No   \n",
              "3  No phone service             DSL            Yes  ...              Yes   \n",
              "4                No     Fiber optic             No  ...               No   \n",
              "\n",
              "  TechSupport StreamingTV StreamingMovies        Contract PaperlessBilling  \\\n",
              "0          No          No              No  Month-to-month              Yes   \n",
              "1          No          No              No        One year               No   \n",
              "2          No          No              No  Month-to-month              Yes   \n",
              "3         Yes          No              No        One year               No   \n",
              "4          No          No              No  Month-to-month              Yes   \n",
              "\n",
              "               PaymentMethod MonthlyCharges  TotalCharges Churn  \n",
              "0           Electronic check          29.85         29.85    No  \n",
              "1               Mailed check          56.95        1889.5    No  \n",
              "2               Mailed check          53.85        108.15   Yes  \n",
              "3  Bank transfer (automatic)          42.30       1840.75    No  \n",
              "4           Electronic check          70.70        151.65   Yes  \n",
              "\n",
              "[5 rows x 21 columns]"
            ]
          },
          "execution_count": 3,
          "metadata": {},
          "output_type": "execute_result"
        }
      ],
      "source": [
        "df.head()"
      ]
    },
    {
      "cell_type": "code",
      "execution_count": null,
      "metadata": {
        "id": "UIttxiqVlfXc",
        "outputId": "1bd8af6e-6e85-472a-9bb5-1587d03f62eb"
      },
      "outputs": [
        {
          "name": "stdout",
          "output_type": "stream",
          "text": [
            "number of rows =  7043\n",
            "number of columns =  21\n"
          ]
        }
      ],
      "source": [
        "#see how many rows and columns\n",
        "rows = len(df.axes[0])\n",
        "col = len(df.axes[1])\n",
        "print(\"number of rows = \",rows)\n",
        "print(\"number of columns = \",col)\n"
      ]
    },
    {
      "cell_type": "code",
      "execution_count": null,
      "metadata": {
        "id": "iBouhxnrlfXd",
        "outputId": "6ce03736-e487-4b74-8819-66b3aed02e40"
      },
      "outputs": [
        {
          "name": "stdout",
          "output_type": "stream",
          "text": [
            "<class 'pandas.core.frame.DataFrame'>\n",
            "RangeIndex: 7043 entries, 0 to 7042\n",
            "Data columns (total 21 columns):\n",
            " #   Column            Non-Null Count  Dtype  \n",
            "---  ------            --------------  -----  \n",
            " 0   customerID        7043 non-null   object \n",
            " 1   gender            7043 non-null   object \n",
            " 2   SeniorCitizen     7043 non-null   int64  \n",
            " 3   Partner           7043 non-null   object \n",
            " 4   Dependents        7043 non-null   object \n",
            " 5   tenure            7043 non-null   int64  \n",
            " 6   PhoneService      7043 non-null   object \n",
            " 7   MultipleLines     7043 non-null   object \n",
            " 8   InternetService   7043 non-null   object \n",
            " 9   OnlineSecurity    7043 non-null   object \n",
            " 10  OnlineBackup      7043 non-null   object \n",
            " 11  DeviceProtection  7043 non-null   object \n",
            " 12  TechSupport       7043 non-null   object \n",
            " 13  StreamingTV       7043 non-null   object \n",
            " 14  StreamingMovies   7043 non-null   object \n",
            " 15  Contract          7043 non-null   object \n",
            " 16  PaperlessBilling  7043 non-null   object \n",
            " 17  PaymentMethod     7043 non-null   object \n",
            " 18  MonthlyCharges    7043 non-null   float64\n",
            " 19  TotalCharges      7043 non-null   object \n",
            " 20  Churn             7043 non-null   object \n",
            "dtypes: float64(1), int64(2), object(18)\n",
            "memory usage: 1.1+ MB\n"
          ]
        }
      ],
      "source": [
        "# information about the DataFrame\n",
        "df.info()"
      ]
    },
    {
      "cell_type": "markdown",
      "metadata": {
        "id": "X-sZrrTZlfXd"
      },
      "source": [
        " No missing value in data but have two features that need to change their type"
      ]
    },
    {
      "cell_type": "code",
      "execution_count": null,
      "metadata": {
        "id": "vbdxV9ZylfXd",
        "outputId": "1a1854f1-8b70-49fd-c624-28a0cbb7c7c0"
      },
      "outputs": [
        {
          "data": {
            "text/plain": [
              "array([0, 1], dtype=int64)"
            ]
          },
          "execution_count": 6,
          "metadata": {},
          "output_type": "execute_result"
        }
      ],
      "source": [
        "# is binary Categorical Variables\n",
        "df['SeniorCitizen'].unique()"
      ]
    },
    {
      "cell_type": "code",
      "execution_count": null,
      "metadata": {
        "id": "zgd4fsadlfXe"
      },
      "outputs": [],
      "source": [
        "#convert the TotalCharges to numeric\n",
        "df['TotalCharges'] = pd.to_numeric(df.TotalCharges,errors='coerce')\n",
        "#convert the SeniorCitizen to object\n",
        "df['SeniorCitizen'] = df['SeniorCitizen'].astype('object')"
      ]
    },
    {
      "cell_type": "code",
      "execution_count": null,
      "metadata": {
        "id": "Ox_mv1fdlfXe",
        "outputId": "8e2e3b02-fab1-4487-9f73-fafd35694428"
      },
      "outputs": [
        {
          "name": "stdout",
          "output_type": "stream",
          "text": [
            "TotalCharges type  float64\n",
            "SeniorCitizen type  object\n"
          ]
        }
      ],
      "source": [
        "#check if convert corrctly\n",
        "TotalCharges= df.dtypes['TotalCharges']\n",
        "print('TotalCharges type ',TotalCharges)\n",
        "SeniorCitizen= df.dtypes['SeniorCitizen']\n",
        "print('SeniorCitizen type ',SeniorCitizen)\n"
      ]
    },
    {
      "cell_type": "markdown",
      "metadata": {
        "id": "VBVaZn9plfXf"
      },
      "source": [
        "### For each continuous kindly visualize the univariate distribution. Visualize the distribution of the target. Have you found something that need to be treated?"
      ]
    },
    {
      "cell_type": "code",
      "execution_count": null,
      "metadata": {
        "id": "YB4w_AS1lfXf",
        "outputId": "9076deab-4c6c-46c0-d5c4-dc9c5f39afce"
      },
      "outputs": [
        {
          "data": {
            "image/png": "[encoded data removed]",
            "text/plain": [
              "<Figure size 720x720 with 4 Axes>"
            ]
          },
          "metadata": {
            "needs_background": "light"
          },
          "output_type": "display_data"
        }
      ],
      "source": [
        "#plot continuous variables using seborn\n",
        "plt.figure(figsize=(10,10))\n",
        "ax1 = plt.subplot(2,2,1)\n",
        "sns.histplot(data=df, x='tenure', ax=ax1)\n",
        "ax2 = plt.subplot(2,2,2)\n",
        "sns.histplot(data=df, x='MonthlyCharges', ax=ax2)\n",
        "ax3 = plt.subplot(2,2,3)\n",
        "sns.histplot(data=df, x='TotalCharges', ax=ax3)\n",
        "ax4 = plt.subplot(2,2,4)\n",
        "sns.countplot(data=df, x='Churn', ax=ax4)\n",
        "plt.tight_layout()"
      ]
    },
    {
      "cell_type": "markdown",
      "metadata": {
        "id": "3iV_YF_llfXg"
      },
      "source": [
        " Yes, all continuous features need to treat also; the target (Churn) needs to treat it is an imbalanced class"
      ]
    },
    {
      "cell_type": "markdown",
      "metadata": {
        "id": "HKHttC0_lfXg"
      },
      "source": [
        "### Divide data into training and test set."
      ]
    },
    {
      "cell_type": "code",
      "execution_count": null,
      "metadata": {
        "id": "fiGSzJf_lfXg"
      },
      "outputs": [],
      "source": [
        "from sklearn.model_selection import train_test_split"
      ]
    },
    {
      "cell_type": "code",
      "execution_count": null,
      "metadata": {
        "id": "4Y8Zw52PlfXg",
        "outputId": "0ca5b12f-e861-4390-a6b7-796cf58feada"
      },
      "outputs": [
        {
          "data": {
            "text/html": [
              "<div>\n",
              "<style scoped>\n",
              "    .dataframe tbody tr th:only-of-type {\n",
              "        vertical-align: middle;\n",
              "    }\n",
              "\n",
              "    .dataframe tbody tr th {\n",
              "        vertical-align: top;\n",
              "    }\n",
              "\n",
              "    .dataframe thead th {\n",
              "        text-align: right;\n",
              "    }\n",
              "</style>\n",
              "<table border=\"1\" class=\"dataframe\">\n",
              "  <thead>\n",
              "    <tr style=\"text-align: right;\">\n",
              "      <th></th>\n",
              "      <th>customerID</th>\n",
              "      <th>gender</th>\n",
              "      <th>SeniorCitizen</th>\n",
              "      <th>Partner</th>\n",
              "      <th>Dependents</th>\n",
              "      <th>tenure</th>\n",
              "      <th>PhoneService</th>\n",
              "      <th>MultipleLines</th>\n",
              "      <th>InternetService</th>\n",
              "      <th>OnlineSecurity</th>\n",
              "      <th>OnlineBackup</th>\n",
              "      <th>DeviceProtection</th>\n",
              "      <th>TechSupport</th>\n",
              "      <th>StreamingTV</th>\n",
              "      <th>StreamingMovies</th>\n",
              "      <th>Contract</th>\n",
              "      <th>PaperlessBilling</th>\n",
              "      <th>PaymentMethod</th>\n",
              "      <th>MonthlyCharges</th>\n",
              "      <th>TotalCharges</th>\n",
              "    </tr>\n",
              "  </thead>\n",
              "  <tbody>\n",
              "    <tr>\n",
              "      <th>0</th>\n",
              "      <td>7590-VHVEG</td>\n",
              "      <td>Female</td>\n",
              "      <td>0</td>\n",
              "      <td>Yes</td>\n",
              "      <td>No</td>\n",
              "      <td>1</td>\n",
              "      <td>No</td>\n",
              "      <td>No phone service</td>\n",
              "      <td>DSL</td>\n",
              "      <td>No</td>\n",
              "      <td>Yes</td>\n",
              "      <td>No</td>\n",
              "      <td>No</td>\n",
              "      <td>No</td>\n",
              "      <td>No</td>\n",
              "      <td>Month-to-month</td>\n",
              "      <td>Yes</td>\n",
              "      <td>Electronic check</td>\n",
              "      <td>29.85</td>\n",
              "      <td>29.85</td>\n",
              "    </tr>\n",
              "    <tr>\n",
              "      <th>1</th>\n",
              "      <td>5575-GNVDE</td>\n",
              "      <td>Male</td>\n",
              "      <td>0</td>\n",
              "      <td>No</td>\n",
              "      <td>No</td>\n",
              "      <td>34</td>\n",
              "      <td>Yes</td>\n",
              "      <td>No</td>\n",
              "      <td>DSL</td>\n",
              "      <td>Yes</td>\n",
              "      <td>No</td>\n",
              "      <td>Yes</td>\n",
              "      <td>No</td>\n",
              "      <td>No</td>\n",
              "      <td>No</td>\n",
              "      <td>One year</td>\n",
              "      <td>No</td>\n",
              "      <td>Mailed check</td>\n",
              "      <td>56.95</td>\n",
              "      <td>1889.50</td>\n",
              "    </tr>\n",
              "    <tr>\n",
              "      <th>2</th>\n",
              "      <td>3668-QPYBK</td>\n",
              "      <td>Male</td>\n",
              "      <td>0</td>\n",
              "      <td>No</td>\n",
              "      <td>No</td>\n",
              "      <td>2</td>\n",
              "      <td>Yes</td>\n",
              "      <td>No</td>\n",
              "      <td>DSL</td>\n",
              "      <td>Yes</td>\n",
              "      <td>Yes</td>\n",
              "      <td>No</td>\n",
              "      <td>No</td>\n",
              "      <td>No</td>\n",
              "      <td>No</td>\n",
              "      <td>Month-to-month</td>\n",
              "      <td>Yes</td>\n",
              "      <td>Mailed check</td>\n",
              "      <td>53.85</td>\n",
              "      <td>108.15</td>\n",
              "    </tr>\n",
              "    <tr>\n",
              "      <th>3</th>\n",
              "      <td>7795-CFOCW</td>\n",
              "      <td>Male</td>\n",
              "      <td>0</td>\n",
              "      <td>No</td>\n",
              "      <td>No</td>\n",
              "      <td>45</td>\n",
              "      <td>No</td>\n",
              "      <td>No phone service</td>\n",
              "      <td>DSL</td>\n",
              "      <td>Yes</td>\n",
              "      <td>No</td>\n",
              "      <td>Yes</td>\n",
              "      <td>Yes</td>\n",
              "      <td>No</td>\n",
              "      <td>No</td>\n",
              "      <td>One year</td>\n",
              "      <td>No</td>\n",
              "      <td>Bank transfer (automatic)</td>\n",
              "      <td>42.30</td>\n",
              "      <td>1840.75</td>\n",
              "    </tr>\n",
              "    <tr>\n",
              "      <th>4</th>\n",
              "      <td>9237-HQITU</td>\n",
              "      <td>Female</td>\n",
              "      <td>0</td>\n",
              "      <td>No</td>\n",
              "      <td>No</td>\n",
              "      <td>2</td>\n",
              "      <td>Yes</td>\n",
              "      <td>No</td>\n",
              "      <td>Fiber optic</td>\n",
              "      <td>No</td>\n",
              "      <td>No</td>\n",
              "      <td>No</td>\n",
              "      <td>No</td>\n",
              "      <td>No</td>\n",
              "      <td>No</td>\n",
              "      <td>Month-to-month</td>\n",
              "      <td>Yes</td>\n",
              "      <td>Electronic check</td>\n",
              "      <td>70.70</td>\n",
              "      <td>151.65</td>\n",
              "    </tr>\n",
              "    <tr>\n",
              "      <th>...</th>\n",
              "      <td>...</td>\n",
              "      <td>...</td>\n",
              "      <td>...</td>\n",
              "      <td>...</td>\n",
              "      <td>...</td>\n",
              "      <td>...</td>\n",
              "      <td>...</td>\n",
              "      <td>...</td>\n",
              "      <td>...</td>\n",
              "      <td>...</td>\n",
              "      <td>...</td>\n",
              "      <td>...</td>\n",
              "      <td>...</td>\n",
              "      <td>...</td>\n",
              "      <td>...</td>\n",
              "      <td>...</td>\n",
              "      <td>...</td>\n",
              "      <td>...</td>\n",
              "      <td>...</td>\n",
              "      <td>...</td>\n",
              "    </tr>\n",
              "    <tr>\n",
              "      <th>7038</th>\n",
              "      <td>6840-RESVB</td>\n",
              "      <td>Male</td>\n",
              "      <td>0</td>\n",
              "      <td>Yes</td>\n",
              "      <td>Yes</td>\n",
              "      <td>24</td>\n",
              "      <td>Yes</td>\n",
              "      <td>Yes</td>\n",
              "      <td>DSL</td>\n",
              "      <td>Yes</td>\n",
              "      <td>No</td>\n",
              "      <td>Yes</td>\n",
              "      <td>Yes</td>\n",
              "      <td>Yes</td>\n",
              "      <td>Yes</td>\n",
              "      <td>One year</td>\n",
              "      <td>Yes</td>\n",
              "      <td>Mailed check</td>\n",
              "      <td>84.80</td>\n",
              "      <td>1990.50</td>\n",
              "    </tr>\n",
              "    <tr>\n",
              "      <th>7039</th>\n",
              "      <td>2234-XADUH</td>\n",
              "      <td>Female</td>\n",
              "      <td>0</td>\n",
              "      <td>Yes</td>\n",
              "      <td>Yes</td>\n",
              "      <td>72</td>\n",
              "      <td>Yes</td>\n",
              "      <td>Yes</td>\n",
              "      <td>Fiber optic</td>\n",
              "      <td>No</td>\n",
              "      <td>Yes</td>\n",
              "      <td>Yes</td>\n",
              "      <td>No</td>\n",
              "      <td>Yes</td>\n",
              "      <td>Yes</td>\n",
              "      <td>One year</td>\n",
              "      <td>Yes</td>\n",
              "      <td>Credit card (automatic)</td>\n",
              "      <td>103.20</td>\n",
              "      <td>7362.90</td>\n",
              "    </tr>\n",
              "    <tr>\n",
              "      <th>7040</th>\n",
              "      <td>4801-JZAZL</td>\n",
              "      <td>Female</td>\n",
              "      <td>0</td>\n",
              "      <td>Yes</td>\n",
              "      <td>Yes</td>\n",
              "      <td>11</td>\n",
              "      <td>No</td>\n",
              "      <td>No phone service</td>\n",
              "      <td>DSL</td>\n",
              "      <td>Yes</td>\n",
              "      <td>No</td>\n",
              "      <td>No</td>\n",
              "      <td>No</td>\n",
              "      <td>No</td>\n",
              "      <td>No</td>\n",
              "      <td>Month-to-month</td>\n",
              "      <td>Yes</td>\n",
              "      <td>Electronic check</td>\n",
              "      <td>29.60</td>\n",
              "      <td>346.45</td>\n",
              "    </tr>\n",
              "    <tr>\n",
              "      <th>7041</th>\n",
              "      <td>8361-LTMKD</td>\n",
              "      <td>Male</td>\n",
              "      <td>1</td>\n",
              "      <td>Yes</td>\n",
              "      <td>No</td>\n",
              "      <td>4</td>\n",
              "      <td>Yes</td>\n",
              "      <td>Yes</td>\n",
              "      <td>Fiber optic</td>\n",
              "      <td>No</td>\n",
              "      <td>No</td>\n",
              "      <td>No</td>\n",
              "      <td>No</td>\n",
              "      <td>No</td>\n",
              "      <td>No</td>\n",
              "      <td>Month-to-month</td>\n",
              "      <td>Yes</td>\n",
              "      <td>Mailed check</td>\n",
              "      <td>74.40</td>\n",
              "      <td>306.60</td>\n",
              "    </tr>\n",
              "    <tr>\n",
              "      <th>7042</th>\n",
              "      <td>3186-AJIEK</td>\n",
              "      <td>Male</td>\n",
              "      <td>0</td>\n",
              "      <td>No</td>\n",
              "      <td>No</td>\n",
              "      <td>66</td>\n",
              "      <td>Yes</td>\n",
              "      <td>No</td>\n",
              "      <td>Fiber optic</td>\n",
              "      <td>Yes</td>\n",
              "      <td>No</td>\n",
              "      <td>Yes</td>\n",
              "      <td>Yes</td>\n",
              "      <td>Yes</td>\n",
              "      <td>Yes</td>\n",
              "      <td>Two year</td>\n",
              "      <td>Yes</td>\n",
              "      <td>Bank transfer (automatic)</td>\n",
              "      <td>105.65</td>\n",
              "      <td>6844.50</td>\n",
              "    </tr>\n",
              "  </tbody>\n",
              "</table>\n",
              "<p>7043 rows × 20 columns</p>\n",
              "</div>"
            ],
            "text/plain": [
              "      customerID  gender SeniorCitizen Partner Dependents  tenure  \\\n",
              "0     7590-VHVEG  Female             0     Yes         No       1   \n",
              "1     5575-GNVDE    Male             0      No         No      34   \n",
              "2     3668-QPYBK    Male             0      No         No       2   \n",
              "3     7795-CFOCW    Male             0      No         No      45   \n",
              "4     9237-HQITU  Female             0      No         No       2   \n",
              "...          ...     ...           ...     ...        ...     ...   \n",
              "7038  6840-RESVB    Male             0     Yes        Yes      24   \n",
              "7039  2234-XADUH  Female             0     Yes        Yes      72   \n",
              "7040  4801-JZAZL  Female             0     Yes        Yes      11   \n",
              "7041  8361-LTMKD    Male             1     Yes         No       4   \n",
              "7042  3186-AJIEK    Male             0      No         No      66   \n",
              "\n",
              "     PhoneService     MultipleLines InternetService OnlineSecurity  \\\n",
              "0              No  No phone service             DSL             No   \n",
              "1             Yes                No             DSL            Yes   \n",
              "2             Yes                No             DSL            Yes   \n",
              "3              No  No phone service             DSL            Yes   \n",
              "4             Yes                No     Fiber optic             No   \n",
              "...           ...               ...             ...            ...   \n",
              "7038          Yes               Yes             DSL            Yes   \n",
              "7039          Yes               Yes     Fiber optic             No   \n",
              "7040           No  No phone service             DSL            Yes   \n",
              "7041          Yes               Yes     Fiber optic             No   \n",
              "7042          Yes                No     Fiber optic            Yes   \n",
              "\n",
              "     OnlineBackup DeviceProtection TechSupport StreamingTV StreamingMovies  \\\n",
              "0             Yes               No          No          No              No   \n",
              "1              No              Yes          No          No              No   \n",
              "2             Yes               No          No          No              No   \n",
              "3              No              Yes         Yes          No              No   \n",
              "4              No               No          No          No              No   \n",
              "...           ...              ...         ...         ...             ...   \n",
              "7038           No              Yes         Yes         Yes             Yes   \n",
              "7039          Yes              Yes          No         Yes             Yes   \n",
              "7040           No               No          No          No              No   \n",
              "7041           No               No          No          No              No   \n",
              "7042           No              Yes         Yes         Yes             Yes   \n",
              "\n",
              "            Contract PaperlessBilling              PaymentMethod  \\\n",
              "0     Month-to-month              Yes           Electronic check   \n",
              "1           One year               No               Mailed check   \n",
              "2     Month-to-month              Yes               Mailed check   \n",
              "3           One year               No  Bank transfer (automatic)   \n",
              "4     Month-to-month              Yes           Electronic check   \n",
              "...              ...              ...                        ...   \n",
              "7038        One year              Yes               Mailed check   \n",
              "7039        One year              Yes    Credit card (automatic)   \n",
              "7040  Month-to-month              Yes           Electronic check   \n",
              "7041  Month-to-month              Yes               Mailed check   \n",
              "7042        Two year              Yes  Bank transfer (automatic)   \n",
              "\n",
              "      MonthlyCharges  TotalCharges  \n",
              "0              29.85         29.85  \n",
              "1              56.95       1889.50  \n",
              "2              53.85        108.15  \n",
              "3              42.30       1840.75  \n",
              "4              70.70        151.65  \n",
              "...              ...           ...  \n",
              "7038           84.80       1990.50  \n",
              "7039          103.20       7362.90  \n",
              "7040           29.60        346.45  \n",
              "7041           74.40        306.60  \n",
              "7042          105.65       6844.50  \n",
              "\n",
              "[7043 rows x 20 columns]"
            ]
          },
          "execution_count": 10,
          "metadata": {},
          "output_type": "execute_result"
        }
      ],
      "source": [
        "X = df.drop('Churn',axis=1)\n",
        "X"
      ]
    },
    {
      "cell_type": "code",
      "execution_count": null,
      "metadata": {
        "id": "YN7PIG2_lfXh",
        "outputId": "fc0c4b4e-58bd-4d84-9e5c-1453d71f9e9f"
      },
      "outputs": [
        {
          "data": {
            "text/plain": [
              "0        No\n",
              "1        No\n",
              "2       Yes\n",
              "3        No\n",
              "4       Yes\n",
              "       ... \n",
              "7038     No\n",
              "7039     No\n",
              "7040     No\n",
              "7041    Yes\n",
              "7042     No\n",
              "Name: Churn, Length: 7043, dtype: object"
            ]
          },
          "execution_count": 11,
          "metadata": {},
          "output_type": "execute_result"
        }
      ],
      "source": [
        "y = df['Churn']\n",
        "y"
      ]
    },
    {
      "cell_type": "code",
      "execution_count": null,
      "metadata": {
        "id": "Iwim1PidlfXh"
      },
      "outputs": [],
      "source": [
        "# split the data\n",
        "X_train, X_test, y_train, y_test = train_test_split(X, y, test_size=1/3, random_state=0)"
      ]
    },
    {
      "cell_type": "markdown",
      "metadata": {
        "id": "1_2huNdMlfXh"
      },
      "source": [
        " ### Create a pipeline for working with categorical variables."
      ]
    },
    {
      "cell_type": "code",
      "execution_count": null,
      "metadata": {
        "id": "OulHA0_flfXh"
      },
      "outputs": [],
      "source": [
        "from sklearn.pipeline import Pipeline\n",
        "from sklearn.pipeline import make_pipeline\n",
        "from sklearn.preprocessing import OneHotEncoder, StandardScaler\n",
        "from sklearn.compose import make_column_transformer\n",
        "from sklearn.impute import SimpleImputer\n",
        "from sklearn.compose import make_column_selector as selector\n"
      ]
    },
    {
      "cell_type": "code",
      "execution_count": null,
      "metadata": {
        "id": "sSyj0bvllfXi"
      },
      "outputs": [],
      "source": [
        "# select categorical columns\n",
        "categorical_columns_selector = selector(dtype_include=object)\n",
        "categorical_columns = categorical_columns_selector(X_train)"
      ]
    },
    {
      "cell_type": "code",
      "execution_count": null,
      "metadata": {
        "id": "YRFIKxuUlfXi"
      },
      "outputs": [],
      "source": [
        "# apply column transformer on categorical_columns\n",
        "preprocess = make_column_transformer((make_pipeline(SimpleImputer(strategy='most_frequent'),\n",
        "                   OneHotEncoder(handle_unknown='ignore', sparse=False)), categorical_columns))"
      ]
    },
    {
      "cell_type": "markdown",
      "metadata": {
        "id": "STDy2dZVlfXi"
      },
      "source": [
        "### Using cross-validation, evaluate nearest centroids, Logistic Regression and linear support vector machines. Are the results different?"
      ]
    },
    {
      "cell_type": "code",
      "execution_count": null,
      "metadata": {
        "id": "NyZ3dIkmlfXi"
      },
      "outputs": [],
      "source": [
        "from sklearn.linear_model import LogisticRegression\n",
        "from sklearn.svm import LinearSVC\n",
        "from sklearn.neighbors.nearest_centroid import NearestCentroid\n",
        "import warnings\n",
        "warnings.filterwarnings('ignore')"
      ]
    },
    {
      "cell_type": "code",
      "execution_count": null,
      "metadata": {
        "id": "my9AtUKglfXj"
      },
      "outputs": [],
      "source": [
        "# create Pipeline for each models\n",
        "model1 = make_pipeline(preprocess, LogisticRegression(solver='liblinear'))\n",
        "model2 = make_pipeline(preprocess, LinearSVC())\n",
        "model3 = make_pipeline(preprocess, NearestCentroid())"
      ]
    },
    {
      "cell_type": "code",
      "execution_count": null,
      "metadata": {
        "id": "OkGStYFWlfXj"
      },
      "outputs": [],
      "source": [
        "from sklearn.model_selection import cross_val_score"
      ]
    },
    {
      "cell_type": "code",
      "execution_count": null,
      "metadata": {
        "id": "n2A4KW_BlfXj",
        "outputId": "799e6e0f-972f-42c3-e26d-4d64f463604a"
      },
      "outputs": [
        {
          "name": "stdout",
          "output_type": "stream",
          "text": [
            "logisticScores 0.7850905218317358\n",
            "linearSVCScores 0.7855165069222577\n",
            "NearestCentroidScores 0.7052183173588925\n"
          ]
        }
      ],
      "source": [
        "# Accuracy mean score for models\n",
        "logisticScores = cross_val_score(model1, X_train, y_train , cv=5)\n",
        "print(\"logisticScores\",logisticScores.mean())\n",
        "linearSVCScores = cross_val_score(model2, X_train, y_train , cv=5)\n",
        "print('linearSVCScores',linearSVCScores.mean())\n",
        "NearestCentroidScores = cross_val_score(model3, X_train, y_train , cv=5)\n",
        "print('NearestCentroidScores',NearestCentroidScores.mean())"
      ]
    },
    {
      "cell_type": "markdown",
      "metadata": {
        "id": "YJyxudQ2lfXj"
      },
      "source": [
        "There is no big difference between logistic regression and linear support vector machines. Nearest centroids has the least score"
      ]
    },
    {
      "cell_type": "markdown",
      "metadata": {
        "id": "16Tcd20GlfXk"
      },
      "source": [
        "### Do you think scaling the continuous features with StandardScaler affect the results?"
      ]
    },
    {
      "cell_type": "code",
      "execution_count": null,
      "metadata": {
        "id": "Qw1m3AijlfXk"
      },
      "outputs": [],
      "source": [
        "# select the numrical colums\n",
        "numerical_columns_selector = selector(dtype_exclude=object)\n",
        "numerical_columns = numerical_columns_selector(X_train)"
      ]
    },
    {
      "cell_type": "code",
      "execution_count": null,
      "metadata": {
        "id": "WQsIahEflfXk"
      },
      "outputs": [],
      "source": [
        "# apply column transformer on numerical_columns and categorical_columns\n",
        "preprocess = make_column_transformer(\n",
        "    (make_pipeline(SimpleImputer(strategy='mean'),\n",
        "                   StandardScaler()), numerical_columns),\n",
        "    (make_pipeline(SimpleImputer(strategy='most_frequent'),\n",
        "                   OneHotEncoder(handle_unknown='ignore', sparse=False)), categorical_columns),\n",
        "    remainder='passthrough'\n",
        ")"
      ]
    },
    {
      "cell_type": "code",
      "execution_count": null,
      "metadata": {
        "id": "1JJYMqNvlfXk"
      },
      "outputs": [],
      "source": [
        "# create Pipeline for each models after StandardScaler\n",
        "model1 = make_pipeline(preprocess, LogisticRegression(solver='liblinear'))\n",
        "model2 = make_pipeline(preprocess, LinearSVC())\n",
        "model3 = make_pipeline(preprocess, NearestCentroid())"
      ]
    },
    {
      "cell_type": "code",
      "execution_count": null,
      "metadata": {
        "id": "ElgGs6QtlfXk",
        "outputId": "75e71ae0-a20f-4e24-bcf7-27a00dbc5f78"
      },
      "outputs": [
        {
          "name": "stdout",
          "output_type": "stream",
          "text": [
            "logisticScores 0.8017039403620874\n",
            "linearSVCScores 0.7993610223642172\n",
            "NearestCentroidScores 0.7378061767838127\n"
          ]
        }
      ],
      "source": [
        "# Accuracy mean score for models after scaling\n",
        "\n",
        "logisticScores = cross_val_score(model1, X_train, y_train , cv=5)\n",
        "print(\"logisticScores\",logisticScores.mean())\n",
        "linearSVCScores = cross_val_score(model2, X_train, y_train , cv=5)\n",
        "print('linearSVCScores',linearSVCScores.mean())\n",
        "NearestCentroidScores = cross_val_score(model3, X_train, y_train , cv=5)\n",
        "print('NearestCentroidScores',NearestCentroidScores.mean())"
      ]
    },
    {
      "cell_type": "markdown",
      "metadata": {
        "id": "WDWMBeRPlfXl"
      },
      "source": [
        "After scaling  the numerical columns the score of LogisticRegression and linear support vector machines and nearest centroids become better but still nearest centroids the least     "
      ]
    },
    {
      "cell_type": "markdown",
      "metadata": {
        "id": "eD1m-s51lfXl"
      },
      "source": [
        "### By Tuning the parameters of the models using GridSearchCV the results might improve. Approve it?"
      ]
    },
    {
      "cell_type": "code",
      "execution_count": null,
      "metadata": {
        "id": "CSbi68erlfXl"
      },
      "outputs": [],
      "source": [
        "from sklearn.model_selection import GridSearchCV"
      ]
    },
    {
      "cell_type": "code",
      "execution_count": null,
      "metadata": {
        "id": "fMvHPYZjlfXl",
        "outputId": "1b856f04-a1e3-4dc6-8661-0d467f2d2482"
      },
      "outputs": [
        {
          "data": {
            "text/plain": [
              "{'logisticregression__C': [0.001, 0.01, 0.1, 1, 10, 100]}"
            ]
          },
          "execution_count": 26,
          "metadata": {},
          "output_type": "execute_result"
        }
      ],
      "source": [
        "# assign parameters for logistic regression\n",
        "param_grid = {'logisticregression__C': [0.001, 0.01, 0.1, 1, 10, 100]}\n",
        "param_grid"
      ]
    },
    {
      "cell_type": "code",
      "execution_count": null,
      "metadata": {
        "id": "y-r9sehjlfXy",
        "outputId": "aa8e24cd-9d32-4aa1-a355-58d6fcdfdd60"
      },
      "outputs": [
        {
          "data": {
            "text/plain": [
              "0.8019591141396933"
            ]
          },
          "execution_count": 27,
          "metadata": {},
          "output_type": "execute_result"
        }
      ],
      "source": [
        "#Tuning the logistic regression  model by enter different parameter\n",
        "grid_search_logistic = GridSearchCV(model1, param_grid, cv=5,return_train_score=True)\n",
        "# fit model\n",
        "grid_search_logistic.fit(X_train, y_train)\n",
        "# result of average score\n",
        "grid_search_logistic.score(X_test, y_test)"
      ]
    },
    {
      "cell_type": "code",
      "execution_count": null,
      "metadata": {
        "id": "a_al3_mWlfXz",
        "outputId": "22667a45-0048-4834-89d8-61aa332812c5"
      },
      "outputs": [
        {
          "data": {
            "text/plain": [
              "{'logisticregression__C': 0.01}"
            ]
          },
          "execution_count": 28,
          "metadata": {},
          "output_type": "execute_result"
        }
      ],
      "source": [
        "# result of best parameter\n",
        "grid_search_logistic.best_params_"
      ]
    },
    {
      "cell_type": "code",
      "execution_count": null,
      "metadata": {
        "id": "r2V6Q2mBlfXz",
        "outputId": "7d24515b-5d1b-415a-d3df-498c0dcb9685"
      },
      "outputs": [
        {
          "data": {
            "text/plain": [
              "0.8048988285410011"
            ]
          },
          "execution_count": 29,
          "metadata": {},
          "output_type": "execute_result"
        }
      ],
      "source": [
        "# result of best score\n",
        "grid_search_logistic.best_score_"
      ]
    },
    {
      "cell_type": "code",
      "execution_count": null,
      "metadata": {
        "id": "4UZNNAKJlfXz",
        "outputId": "d7839367-58ce-46d8-a276-9db54eeae767"
      },
      "outputs": [
        {
          "data": {
            "text/plain": [
              "{'linearsvc__C': [0.001, 0.01, 0.1, 1, 10, 100]}"
            ]
          },
          "execution_count": 30,
          "metadata": {},
          "output_type": "execute_result"
        }
      ],
      "source": [
        "# assign parameters for linearsvc\n",
        "param_grid = {'linearsvc__C': [0.001, 0.01, 0.1, 1, 10, 100]}\n",
        "param_grid"
      ]
    },
    {
      "cell_type": "code",
      "execution_count": null,
      "metadata": {
        "id": "iWRh4NZRlfX0",
        "outputId": "5038c86b-8004-4ad5-e0ec-c49987dedcce"
      },
      "outputs": [
        {
          "data": {
            "text/plain": [
              "0.8019591141396933"
            ]
          },
          "execution_count": 31,
          "metadata": {},
          "output_type": "execute_result"
        }
      ],
      "source": [
        "#Tuning the linearSVC  model\n",
        "grid_search_SVC = GridSearchCV(model2, param_grid, cv=5, return_train_score=True)\n",
        "grid_search_SVC.fit(X_train, y_train)\n",
        "grid_search_SVC.score(X_test, y_test)"
      ]
    },
    {
      "cell_type": "code",
      "execution_count": null,
      "metadata": {
        "id": "g2Tw4GJOlfX0",
        "outputId": "394d0167-bf46-4a05-f97d-d61f4d953d5c"
      },
      "outputs": [
        {
          "data": {
            "text/plain": [
              "{'linearsvc__C': 0.001}"
            ]
          },
          "execution_count": 32,
          "metadata": {},
          "output_type": "execute_result"
        }
      ],
      "source": [
        "grid_search_SVC.best_params_"
      ]
    },
    {
      "cell_type": "code",
      "execution_count": null,
      "metadata": {
        "id": "v9k8N4lnlfX0",
        "outputId": "eec2562d-7ed9-4d5d-c2df-143ddf7f471d"
      },
      "outputs": [
        {
          "data": {
            "text/plain": [
              "0.8031948881789137"
            ]
          },
          "execution_count": 33,
          "metadata": {},
          "output_type": "execute_result"
        }
      ],
      "source": [
        "grid_search_SVC.best_score_"
      ]
    },
    {
      "cell_type": "code",
      "execution_count": null,
      "metadata": {
        "id": "W1QbedzglfX0",
        "outputId": "65a79a78-a8be-4ae5-d48b-7dc6c9831372"
      },
      "outputs": [
        {
          "data": {
            "text/plain": [
              "{'nearestcentroid__shrink_threshold': [0.001, 0.01, 0.1, 1, 10, 100]}"
            ]
          },
          "execution_count": 34,
          "metadata": {},
          "output_type": "execute_result"
        }
      ],
      "source": [
        "# assign parameters for Nearestcentroid\n",
        "param_grid = {'nearestcentroid__shrink_threshold': [0.001, 0.01, 0.1, 1, 10, 100]}\n",
        "param_grid"
      ]
    },
    {
      "cell_type": "code",
      "execution_count": null,
      "metadata": {
        "id": "X18qSg7vlfX1",
        "outputId": "e6036d54-66f4-441a-ebef-61b300a223ae"
      },
      "outputs": [
        {
          "data": {
            "text/plain": [
              "0.7291311754684838"
            ]
          },
          "execution_count": 35,
          "metadata": {},
          "output_type": "execute_result"
        }
      ],
      "source": [
        "#Tuning the Nearestcentroid  model\n",
        "grid_search_nearestcentroid = GridSearchCV(model3, param_grid, cv=5 ,return_train_score=True)\n",
        "grid_search_nearestcentroid.fit(X_train, y_train)\n",
        "grid_search_nearestcentroid.score(X_test, y_test)"
      ]
    },
    {
      "cell_type": "code",
      "execution_count": null,
      "metadata": {
        "id": "gKHzmeI9lfX1",
        "outputId": "4adc12d0-97ec-4d1f-da7d-00b493539a56"
      },
      "outputs": [
        {
          "data": {
            "text/plain": [
              "{'nearestcentroid__shrink_threshold': 0.1}"
            ]
          },
          "execution_count": 36,
          "metadata": {},
          "output_type": "execute_result"
        }
      ],
      "source": [
        "grid_search_nearestcentroid.best_params_"
      ]
    },
    {
      "cell_type": "code",
      "execution_count": null,
      "metadata": {
        "id": "vJDeL8fTlfX1",
        "outputId": "8def863a-0ae0-4c52-fb38-e31076e521f2"
      },
      "outputs": [
        {
          "data": {
            "text/plain": [
              "0.7380191693290735"
            ]
          },
          "execution_count": 37,
          "metadata": {},
          "output_type": "execute_result"
        }
      ],
      "source": [
        "grid_search_nearestcentroid.best_score_"
      ]
    },
    {
      "cell_type": "markdown",
      "metadata": {
        "id": "nlqB2ibSlfX2"
      },
      "source": [
        "The resulting score of logistic regression changed from 0.8017 to 0.8048, and linear support vector machines resulted from form 0,799 to 0.8031 finally Nearest centroids result from 0.737 to 0.738."
      ]
    },
    {
      "cell_type": "markdown",
      "metadata": {
        "id": "0QoPEIFGlfX2"
      },
      "source": [
        "### Plot the performance as function of the parameters for nearest centroids, Logistic Regression and linear support vector machines."
      ]
    },
    {
      "cell_type": "code",
      "execution_count": null,
      "metadata": {
        "id": "EVhXtC7WlfX2"
      },
      "outputs": [],
      "source": [
        "#get lists of mean_train_score and mean_test_score\n",
        "def plot_parameter(grid_search_):\n",
        "    param_grid= [0.001, 0.01, 0.1, 1, 10, 100]\n",
        "    train_score = grid_search_.cv_results_['mean_train_score']\n",
        "    test_score = grid_search_.cv_results_['mean_test_score']\n",
        "\n",
        "#Plot graph\n",
        "    fig= plt.figure(figsize=(8,5))\n",
        "    plt.plot(param_grid, train_score,\n",
        "         label = 'mean_train_score')\n",
        "    plt.plot(param_grid, test_score,\n",
        "         label = 'mean_test_score')\n",
        "    plt.legend()\n",
        "    plt.xlabel('C')\n",
        "    plt.ylabel('score')\n",
        "    plt.title('Performance Scores by Parametres (C)')\n",
        "    plt.show()\n",
        "\n"
      ]
    },
    {
      "cell_type": "code",
      "execution_count": null,
      "metadata": {
        "id": "sKkSff8UlfX2",
        "outputId": "d1643b28-f70b-451f-b259-1ca40308bbbc"
      },
      "outputs": [
        {
          "data": {
            "image/png": "[encoded data removed]",
            "text/plain": [
              "<Figure size 576x360 with 1 Axes>"
            ]
          },
          "metadata": {
            "needs_background": "light"
          },
          "output_type": "display_data"
        }
      ],
      "source": [
        "plot_parameter(grid_search_logistic)"
      ]
    },
    {
      "cell_type": "code",
      "execution_count": null,
      "metadata": {
        "id": "dcXhmEaClfX3",
        "outputId": "71af97ae-517c-400e-86a4-b29d890a956a"
      },
      "outputs": [
        {
          "data": {
            "image/png": "[encoded data removed]",
            "text/plain": [
              "<Figure size 576x360 with 1 Axes>"
            ]
          },
          "metadata": {
            "needs_background": "light"
          },
          "output_type": "display_data"
        }
      ],
      "source": [
        "plot_parameter(grid_search_SVC)"
      ]
    },
    {
      "cell_type": "code",
      "execution_count": null,
      "metadata": {
        "id": "e9dU3UAqlfX3",
        "outputId": "04fae5fa-cfac-4718-987a-bdd9b8f477cf"
      },
      "outputs": [
        {
          "data": {
            "image/png": "[encoded data removed]",
            "text/plain": [
              "<Figure size 576x360 with 1 Axes>"
            ]
          },
          "metadata": {
            "needs_background": "light"
          },
          "output_type": "display_data"
        }
      ],
      "source": [
        "plot_parameter(grid_search_nearestcentroid)"
      ]
    },
    {
      "cell_type": "markdown",
      "metadata": {
        "id": "2LvpWVD2lfX4"
      },
      "source": [
        "### Do you think the parameters that are found change if we change the cross-validation strategy from ‘stratified k-fold’ to ‘kfold’ with shuffling."
      ]
    },
    {
      "cell_type": "code",
      "execution_count": null,
      "metadata": {
        "id": "H6hHaRhilfX4"
      },
      "outputs": [],
      "source": [
        "# import the StratifiedKFold KFold\n",
        "from sklearn.model_selection import StratifiedKFold\n",
        "from sklearn.model_selection import KFold"
      ]
    },
    {
      "cell_type": "code",
      "execution_count": null,
      "metadata": {
        "id": "jt2HTHzglfX5"
      },
      "outputs": [],
      "source": [
        "# Assign the number of split and shuffle to two stratege\n",
        "skf = StratifiedKFold(n_splits=10, shuffle=True, random_state=1)\n",
        "kFold = KFold(n_splits=10, shuffle=True, random_state=1)"
      ]
    },
    {
      "cell_type": "code",
      "execution_count": null,
      "metadata": {
        "id": "3oRpAKl-lfX5",
        "outputId": "88bcdf7d-a4ae-4267-b0fb-68393f619838"
      },
      "outputs": [
        {
          "name": "stdout",
          "output_type": "stream",
          "text": [
            "0.8019591141396933\n",
            "{'logisticregression__C': 1}\n",
            "0.8057505784149164\n"
          ]
        }
      ],
      "source": [
        "# apply the stratified k-fold on logistic regression\n",
        "# assign parameters for logistic regression  model\n",
        "param_grid = {'logisticregression__C': [0.001, 0.01, 0.1, 1, 10, 100]}\n",
        "grid_search_logistic = GridSearchCV(model1, param_grid, cv=skf,return_train_score=True)\n",
        "# fit model\n",
        "grid_search_logistic.fit(X_train, y_train)\n",
        "# result of average score\n",
        "print(grid_search_logistic.score(X_test, y_test))\n",
        "# result of best parameter\n",
        "print(grid_search_logistic.best_params_)\n",
        "# result of best score\n",
        "print(grid_search_logistic.best_score_)"
      ]
    },
    {
      "cell_type": "code",
      "execution_count": null,
      "metadata": {
        "id": "D_9MG3bJlfX5",
        "outputId": "bd66d9b7-d4d6-4db2-d31d-b9ab8e7ba392"
      },
      "outputs": [
        {
          "name": "stdout",
          "output_type": "stream",
          "text": [
            "0.8019591141396933\n",
            "{'linearsvc__C': 0.001}\n",
            "0.8034124211767908\n"
          ]
        }
      ],
      "source": [
        "# apply the stratified k-fold on Linearsvc\n",
        "## assign parameters for Linearsvc  model\n",
        "param_grid = {'linearsvc__C': [0.001, 0.01, 0.1, 1, 10, 100]}\n",
        "grid_search_SVC = GridSearchCV(model2, param_grid, cv=skf, return_train_score=True)\n",
        "grid_search_SVC.fit(X_train, y_train)\n",
        "print(grid_search_SVC.score(X_test, y_test))\n",
        "print(grid_search_SVC.best_params_)\n",
        "print(grid_search_SVC.best_score_)"
      ]
    },
    {
      "cell_type": "code",
      "execution_count": null,
      "metadata": {
        "id": "JQ1FwspflfX6",
        "outputId": "0f0346ec-4280-42a9-f0de-3e07183fad1a"
      },
      "outputs": [
        {
          "name": "stdout",
          "output_type": "stream",
          "text": [
            "0.729557069846678\n",
            "{'nearestcentroid__shrink_threshold': 0.001}\n",
            "0.7380179648868122\n"
          ]
        }
      ],
      "source": [
        "# apply the stratified k-fold on Nearestcentroid\n",
        "# assign parameters for Nearestcentroid  model\n",
        "param_grid = {'nearestcentroid__shrink_threshold': [0.001, 0.01, 0.1, 1, 10, 100]}\n",
        "grid_search_nearestcentroid = GridSearchCV(model3, param_grid, cv=skf ,return_train_score=True)\n",
        "grid_search_nearestcentroid.fit(X_train, y_train)\n",
        "print(grid_search_nearestcentroid.score(X_test, y_test))\n",
        "print(grid_search_nearestcentroid.best_params_)\n",
        "print(grid_search_nearestcentroid.best_score_)"
      ]
    },
    {
      "cell_type": "code",
      "execution_count": null,
      "metadata": {
        "id": "13AdRnuvlfX6",
        "outputId": "1a6b8cb2-4a34-41c2-b1e0-65c61721c55d"
      },
      "outputs": [
        {
          "name": "stdout",
          "output_type": "stream",
          "text": [
            "0.8019591141396933\n",
            "{'logisticregression__C': 1}\n",
            "0.8068212130835185\n"
          ]
        }
      ],
      "source": [
        "# apply the k-fold on logistic regression\n",
        "# assign parameters for logistic regression  model\n",
        "param_grid = {'logisticregression__C': [0.001, 0.01, 0.1, 1, 10, 100]}\n",
        "grid_search_logistic = GridSearchCV(model1, param_grid, cv=kFold,return_train_score=True)\n",
        "grid_search_logistic.fit(X_train, y_train)\n",
        "print(grid_search_logistic.score(X_test, y_test))\n",
        "print(grid_search_logistic.best_params_)\n",
        "print(grid_search_logistic.best_score_)"
      ]
    },
    {
      "cell_type": "code",
      "execution_count": null,
      "metadata": {
        "id": "njjbTr1ClfX6",
        "outputId": "8f1e98cd-a5ec-4615-a782-272d838fa9c6"
      },
      "outputs": [
        {
          "name": "stdout",
          "output_type": "stream",
          "text": [
            "0.8057921635434412\n",
            "{'linearsvc__C': 0.1}\n",
            "0.8040548019779521\n"
          ]
        }
      ],
      "source": [
        "# apply the k-fold on Linearsvc\n",
        "## assign parameters for Linearsvc  model\n",
        "param_grid = {'linearsvc__C': [0.001, 0.01, 0.1, 1, 10, 100]}\n",
        "grid_search_SVC = GridSearchCV(model2, param_grid, cv=kFold, return_train_score=True)\n",
        "grid_search_SVC.fit(X_train, y_train)\n",
        "print(grid_search_SVC.score(X_test, y_test))\n",
        "print(grid_search_SVC.best_params_)\n",
        "print(grid_search_SVC.best_score_)"
      ]
    },
    {
      "cell_type": "code",
      "execution_count": null,
      "metadata": {
        "id": "6ImrrFqjlfX7",
        "outputId": "5e15979d-b473-4c2c-caa7-74eef7e6f1c8"
      },
      "outputs": [
        {
          "name": "stdout",
          "output_type": "stream",
          "text": [
            "0.729557069846678\n",
            "{'nearestcentroid__shrink_threshold': 0.001}\n",
            "0.738438506555369\n"
          ]
        }
      ],
      "source": [
        "# apply the k-fold on Nearestcentroid\n",
        "# assign parameters for Nearestcentroid  model\n",
        "param_grid = {'nearestcentroid__shrink_threshold': [0.001, 0.01, 0.1, 1, 10, 100]}\n",
        "grid_search_nearestcentroid = GridSearchCV(model3, param_grid, cv=kFold ,return_train_score=True)\n",
        "grid_search_nearestcentroid.fit(X_train, y_train)\n",
        "print(grid_search_nearestcentroid.score(X_test, y_test))\n",
        "print(grid_search_nearestcentroid.best_params_)\n",
        "print(grid_search_nearestcentroid.best_score_)"
      ]
    },
    {
      "cell_type": "markdown",
      "metadata": {
        "id": "WcpIB8_QlfX7"
      },
      "source": [
        "Yes I think it is a little change . As we see, the parameter of linear support vector machines change, and nearest centroids and Logistic Regression do not change"
      ]
    },
    {
      "cell_type": "markdown",
      "metadata": {
        "id": "KBdIzbG1lfX7"
      },
      "source": [
        "### Using hyper-parameters that showed good results in the gridsearch, visualize the coefficients for Linear Support Vector Machines and Logistic Regression"
      ]
    },
    {
      "cell_type": "code",
      "execution_count": null,
      "metadata": {
        "id": "ISj36inSlfX7",
        "outputId": "ddf8ce75-3f1c-4602-ff38-d1f73fd2190d"
      },
      "outputs": [
        {
          "data": {
            "text/plain": [
              "{'linearsvc__C': 0.001}"
            ]
          },
          "execution_count": 38,
          "metadata": {},
          "output_type": "execute_result"
        }
      ],
      "source": [
        "# best parameters from gridsearch\n",
        "best_param_SVM=grid_search_SVC.best_params_\n",
        "best_param_SVM"
      ]
    },
    {
      "cell_type": "code",
      "execution_count": null,
      "metadata": {
        "id": "ve-zF6w1lfX8"
      },
      "outputs": [],
      "source": [
        "# pipline contain preprocess and  LinearSVC with best parameter model\n",
        "pipe = Pipeline(steps=[(\"scaler\", preprocess), (\"svm\", LinearSVC(C = 0.001))])"
      ]
    },
    {
      "cell_type": "code",
      "execution_count": null,
      "metadata": {
        "id": "ePqo8QdllfX8",
        "outputId": "812a94ba-cdb0-4180-9a5e-a8c48d0ecaff"
      },
      "outputs": [
        {
          "data": {
            "text/plain": [
              "array([[-0.18145487,  0.11652331, -0.10455316, ..., -0.06697159,\n",
              "         0.07714466, -0.0456226 ]])"
            ]
          },
          "execution_count": 48,
          "metadata": {},
          "output_type": "execute_result"
        }
      ],
      "source": [
        "# fit the model\n",
        "c=pipe.fit(X_train, y_train)\n",
        "\n",
        "# get the coefficients\n",
        "coef=c.named_steps['svm'].coef_\n",
        "coef"
      ]
    },
    {
      "cell_type": "code",
      "execution_count": null,
      "metadata": {
        "id": "IWDpIT6hlfX8",
        "outputId": "33163d2a-7f47-48cb-b112-5a3e1ed95a5f"
      },
      "outputs": [
        {
          "data": {
            "text/plain": [
              "Text(0.5, 1.0, 'Coefficients of Linear Support Vector Machines')"
            ]
          },
          "execution_count": 45,
          "metadata": {},
          "output_type": "execute_result"
        },
        {
          "data": {
            "image/png": "[encoded data removed]",
            "text/plain": [
              "<Figure size 720x360 with 1 Axes>"
            ]
          },
          "metadata": {
            "needs_background": "light"
          },
          "output_type": "display_data"
        }
      ],
      "source": [
        "#Plot graph\n",
        "fig= plt.figure(figsize=(10,5))\n",
        "# plot x = Featuers  , y=coefficients value for every Featuers\n",
        "# for positive coefficients blue color and negative coefficients red color\n",
        "#coef.shape[1] = columns of featuers\n",
        "plt.scatter(range(coef.shape[1]),coef,c=np.sign(coef), cmap=\"bwr_r\")\n",
        "plt.xlabel('Featuers')\n",
        "plt.ylabel('coefficients value')\n",
        "plt.title('Coefficients of Linear Support Vector Machines')"
      ]
    },
    {
      "cell_type": "code",
      "execution_count": null,
      "metadata": {
        "id": "_b7-wxtJlfX9",
        "outputId": "17a4a54d-6748-4570-9a75-c76055e4a310"
      },
      "outputs": [
        {
          "data": {
            "text/plain": [
              "{'logisticregression__C': 0.01}"
            ]
          },
          "execution_count": 50,
          "metadata": {},
          "output_type": "execute_result"
        }
      ],
      "source": [
        "# best parameters from gridsearch\n",
        "best_param_logistic=grid_search_logistic.best_params_\n",
        "best_param_logistic"
      ]
    },
    {
      "cell_type": "code",
      "execution_count": null,
      "metadata": {
        "id": "X6x0EfiAlfX9"
      },
      "outputs": [],
      "source": [
        "# pipline contain preprocess and  LogisticRegression with best parameter model\n",
        "pipe1 = Pipeline(steps=[(\"scaler\", preprocess), (\"logistic\", LogisticRegression(C =0.01))])"
      ]
    },
    {
      "cell_type": "code",
      "execution_count": null,
      "metadata": {
        "id": "jot69C9elfX9",
        "outputId": "078d5e8c-6046-4951-ec52-50a90e803909"
      },
      "outputs": [
        {
          "data": {
            "text/plain": [
              "array([[-0.59441608,  0.26010682, -0.17000431, ..., -0.14137527,\n",
              "         0.2467913 , -0.04072039]])"
            ]
          },
          "execution_count": 47,
          "metadata": {},
          "output_type": "execute_result"
        }
      ],
      "source": [
        "# fit the model\n",
        "c=pipe1.fit(X_train, y_train)\n",
        "\n",
        "# get the coefficients\n",
        "coef1=c.named_steps['logistic'].coef_\n",
        "coef1"
      ]
    },
    {
      "cell_type": "code",
      "execution_count": null,
      "metadata": {
        "id": "yH1kWWvRlfX-",
        "outputId": "4be243f5-50ed-4690-8992-4b65da2ae845"
      },
      "outputs": [
        {
          "data": {
            "text/plain": [
              "Text(0.5, 1.0, 'Coefficients of Logistic Regression')"
            ]
          },
          "execution_count": 49,
          "metadata": {},
          "output_type": "execute_result"
        },
        {
          "data": {
            "image/png": "[encoded data removed]",
            "text/plain": [
              "<Figure size 720x360 with 1 Axes>"
            ]
          },
          "metadata": {
            "needs_background": "light"
          },
          "output_type": "display_data"
        }
      ],
      "source": [
        "#Plot graph\n",
        "fig= plt.figure(figsize=(10,5))\n",
        "# plot x =Featuers , y=coefficients value for every Featuers\n",
        "# for positive coefficients blue color and negative coefficients red color\n",
        "#coef.shape[1] = columns of featuers\n",
        "plt.scatter(range(coef1.shape[1]),coef1,c=np.sign(coef1), cmap=\"bwr_r\")\n",
        "plt.xlabel('Featuers')\n",
        "plt.ylabel('coefficients value')\n",
        "plt.title('Coefficients of Logistic Regression')"
      ]
    }
  ],
  "metadata": {
    "kernelspec": {
      "display_name": "Python 3",
      "language": "python",
      "name": "python3"
    },
    "language_info": {
      "codemirror_mode": {
        "name": "ipython",
        "version": 3
      },
      "file_extension": ".py",
      "mimetype": "text/x-python",
      "name": "python",
      "nbconvert_exporter": "python",
      "pygments_lexer": "ipython3",
      "version": "3.8.3"
    },
    "colab": {
      "provenance": []
    }
  },
  "nbformat": 4,
  "nbformat_minor": 0
}